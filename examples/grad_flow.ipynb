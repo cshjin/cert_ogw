{
 "cells": [
  {
   "cell_type": "code",
   "execution_count": 1,
   "id": "edc65ae4",
   "metadata": {},
   "outputs": [],
   "source": [
    "%load_ext autoreload\n",
    "%autoreload 2"
   ]
  },
  {
   "cell_type": "code",
   "execution_count": 2,
   "id": "473801e2",
   "metadata": {},
   "outputs": [],
   "source": [
    "import random\n",
    "\n",
    "import networkx as nx\n",
    "import numpy as np\n",
    "import scipy.optimize as optim\n",
    "from fgw.gromov_prox import *\n",
    "from fgw.bary_utils import commute_time\n"
   ]
  },
  {
   "cell_type": "code",
   "execution_count": 3,
   "id": "ae6839d4",
   "metadata": {},
   "outputs": [],
   "source": [
    "def laplacian(A):\n",
    "    \"\"\" Get graph Laplacian matrix\n",
    "\n",
    "    Args:\n",
    "        A (np.ndarray): Adjacency matrix\n",
    "\n",
    "    Returns:\n",
    "        (np.ndarray): Laplacian matrix\n",
    "    \"\"\" \n",
    "    return np.diag(A.sum(1)) - A\n"
   ]
  },
  {
   "cell_type": "code",
   "execution_count": 4,
   "id": "740518ba",
   "metadata": {},
   "outputs": [],
   "source": [
    "N = 5\n",
    "N1 = 6\n",
    "# N2 = 3\n",
    "\n",
    "G1 = nx.cycle_graph(N1)\n",
    "# G2 = nx.binomial_graph(N2, random.random())\n",
    "A1 = nx.adjacency_matrix(G1).toarray()\n",
    "# A2 = nx.adjacency_matrix(G2).toarray()\n",
    "D1 = commute_time(A1)\n",
    "# D2 = commute_time(A2)\n",
    "\n",
    "G = nx.cycle_graph(N)\n",
    "A = nx.adjacency_matrix(G).toarray()\n",
    "C = commute_time(A)\n",
    "\n",
    "eet = np.ones((N, N))\n"
   ]
  },
  {
   "cell_type": "code",
   "execution_count": 5,
   "id": "8eba6137",
   "metadata": {},
   "outputs": [],
   "source": [
    "def z(A):\n",
    "    N = A.shape[0]\n",
    "    # eet = np.ones((N, N))\n",
    "    L_inv = np.linalg.inv(laplacian(A) + eet / N) - eet / N\n",
    "    return L_inv\n",
    "\n",
    "np.testing.assert_array_almost_equal(np.linalg.pinv(laplacian(A)), z(A))\n"
   ]
  },
  {
   "cell_type": "code",
   "execution_count": 6,
   "id": "b7a0f721",
   "metadata": {},
   "outputs": [],
   "source": [
    "\"\"\" Optimize over P_i, from fgwtil_ub \"\"\"\n",
    "# _, P1 = fused_gromov_upper_bound_rec(np.zeros([N, N1]), C, D1, 1, 'OE', True)\n",
    "# _, P2 = fused_gromov_upper_bound_rec(np.zeros([N, N2]), C, D2, 1, 'OE', True)\n",
    "\n",
    "\"\"\" Optimize over P_i, from GW \"\"\"\n",
    "P1 = gromov_wasserstein(C, D1, np.ones(N) / N, np.ones(N1) / N1, loss_fun=\"square_loss\")\n",
    "# P2 = gromov_wasserstein(C, D2, np.ones(N) / N, np.ones(N2) / N2, loss_fun=\"square_loss\")\n"
   ]
  },
  {
   "cell_type": "code",
   "execution_count": 7,
   "id": "a486eeaf",
   "metadata": {},
   "outputs": [],
   "source": [
    "def rp(X, decimals=3):\n",
    "    print(np.round(X.reshape(N, N), decimals=decimals))\n"
   ]
  },
  {
   "cell_type": "markdown",
   "id": "ef030dd1",
   "metadata": {},
   "source": [
    "## $\\partial f / \\partial C$"
   ]
  },
  {
   "cell_type": "code",
   "execution_count": 8,
   "id": "9e9c34eb",
   "metadata": {},
   "outputs": [
    {
     "name": "stdout",
     "output_type": "stream",
     "text": [
      "approx grad\n",
      "[[-0.56889 -0.56889 -0.20444  0.15111 -0.27556]\n",
      " [-0.56889 -0.35556 -0.20444 -0.32889 -0.00889]\n",
      " [-0.20444 -0.20444 -0.22222 -0.47111 -0.36444]\n",
      " [ 0.15111 -0.32889 -0.47111 -0.22223 -0.59556]\n",
      " [-0.27556 -0.00889 -0.36444 -0.59556 -0.22222]]\n",
      "true grad\n",
      "[[-0.56889 -0.56889 -0.20444  0.15111 -0.27556]\n",
      " [-0.56889 -0.35556 -0.20444 -0.32889 -0.00889]\n",
      " [-0.20444 -0.20444 -0.22222 -0.47111 -0.36444]\n",
      " [ 0.15111 -0.32889 -0.47111 -0.22222 -0.59556]\n",
      " [-0.27556 -0.00889 -0.36444 -0.59556 -0.22222]]\n"
     ]
    }
   ],
   "source": [
    "def f_C(C):\n",
    "    \"\"\"\n",
    "    .. math::\n",
    "\n",
    "    f(C) = \\norm{C}^2 + \\sum_i \\lambda_i \\norm{D_i}^2 - \\tr(C P_i D_i P_i.T )\n",
    "    \"\"\"\n",
    "    C = np.reshape(C, (N, N))\n",
    "    C_norm = np.linalg.norm(C)\n",
    "    D1_norm = np.linalg.norm(D1)\n",
    "    # return np.linalg.norm(C)**2 + 0.5 * np.linalg.norm(D1)**2 + 0.5 * np.linalg.norm(D2)**2 \\\n",
    "    #     - np.trace(C @ P1 @ D1 @ P1.T) - np.trace(C @ P2 @ D2 @ P2.T)\n",
    "    return C_norm**2 / N**2 + D1_norm**2 / N1**2 - 2 * np.trace(C @ P1 @ D1 @ P1.T)\n",
    "\n",
    "\n",
    "def grad_f_C(C):\n",
    "    \"\"\" derivative wrt C\n",
    "    .. math::\n",
    "\n",
    "    \\partial f / \\partial C = 2 * C - \\sum_i \\tr(P_i D_i.T P_i.T)\n",
    "    \"\"\"\n",
    "    return 2 * C / N**2 - 2 * P1 @ D1.T @ P1.T\n",
    "\n",
    "\n",
    "grad_approx = optim.approx_fprime(C.flatten(), f_C, np.sqrt(np.finfo(float).eps))\n",
    "grad_true = grad_f_C(C)\n",
    "\n",
    "# np.testing.assert_array_almost_equal(grad_approx.reshape((N, N)), grad_true)\n",
    "print(\"approx grad\")\n",
    "rp(grad_approx, 5)\n",
    "print(\"true grad\")\n",
    "rp(grad_true, 5)\n"
   ]
  },
  {
   "cell_type": "markdown",
   "id": "74881caf",
   "metadata": {},
   "source": [
    "## $\\partial \\ vol(G) / \\partial Z$\n",
    "$Z = (L + 1 1^\\top / n)^{-1}$"
   ]
  },
  {
   "cell_type": "code",
   "execution_count": 9,
   "id": "3a76b48c",
   "metadata": {},
   "outputs": [
    {
     "name": "stdout",
     "output_type": "stream",
     "text": [
      "approx grad\n",
      "[[-6.2  3.8 -1.2 -1.2  3.8]\n",
      " [ 3.8 -6.2  3.8 -1.2 -1.2]\n",
      " [-1.2  3.8 -6.2  3.8 -1.2]\n",
      " [-1.2 -1.2  3.8 -6.2  3.8]\n",
      " [ 3.8 -1.2 -1.2  3.8 -6.2]]\n",
      "true grad\n",
      "[[-6.2  3.8 -1.2 -1.2  3.8]\n",
      " [ 3.8 -6.2  3.8 -1.2 -1.2]\n",
      " [-1.2  3.8 -6.2  3.8 -1.2]\n",
      " [-1.2 -1.2  3.8 -6.2  3.8]\n",
      " [ 3.8 -1.2 -1.2  3.8 -6.2]]\n"
     ]
    }
   ],
   "source": [
    "def L_pinv(A):\n",
    "    \"\"\" pseudo inverse\n",
    "    .. math::\n",
    "\n",
    "    L_pinv = (L + 11.T / N)^{-1} - 11.T / N\n",
    "    \"\"\"\n",
    "    N = A.shape[0]\n",
    "    L = laplacian(A)\n",
    "    # eet = np.ones([N, N])\n",
    "    Lpinv = np.linalg.inv(L + eet / N) - eet / N\n",
    "    return Lpinv\n",
    "\n",
    "def Z(L):\n",
    "    \"\"\" pseudo inverse\n",
    "    .. math::\n",
    "\n",
    "    Z = (L + 11.T / n) \n",
    "    \"\"\"\n",
    "    # eet = np.ones([N, N])\n",
    "    return np.linalg.inv(L + eet / N)\n",
    "\n",
    "\n",
    "def vol(A):\n",
    "    \"\"\" vol(G)\n",
    "    vol(G) = 1 A 1.T\n",
    "    \"\"\"\n",
    "    return A.sum()\n",
    "\n",
    "\n",
    "def grad_vol_A():\n",
    "    \"\"\"\n",
    "    \\partial vol(G) / \\partial G = 1 1.T\n",
    "    \"\"\"\n",
    "    return np.ones([N, N])\n",
    "\n",
    "\n",
    "def volZ(Z):\n",
    "    \"\"\" calculate vol of graph from Z\n",
    "    volZ = \\one^\\top (Z^{-1} - \\one\\one^\\top/N) \\one\n",
    "    \"\"\"\n",
    "    Z = np.reshape(Z, [N, N])\n",
    "    # eet = np.ones([N, N])\n",
    "    # recover the L \n",
    "    L = np.linalg.inv(Z) - eet / N\n",
    "    # rp(L)\n",
    "    # print(np.trace(L))\n",
    "    # np.fill_diagonal(L, 0)\n",
    "    # print(-L.sum())\n",
    "    # assert -L.sum() == np.trace(L)\n",
    "    # return -L.sum()\n",
    "    return np.trace(L)\n",
    "\n",
    "@DeprecationWarning\n",
    "def volZ_v2(Z):\n",
    "    Z = Z.reshape((N, N))\n",
    "    # eet = np.ones((N, N))\n",
    "    L = np.linalg.inv(Z) - eet / N\n",
    "    np.fill_diagonal(L, 0)\n",
    "    return -L.sum()\n",
    "\n",
    "\n",
    "def grad_volZ_Z(Z):\n",
    "    \"\"\" \n",
    "    \\grad vol(Z) = -Z^{-1} Z^{-1} \n",
    "\n",
    "    Ref: Cookbook p.26\n",
    "    \"\"\"\n",
    "    Z = np.reshape(Z, [N, N])\n",
    "    Z_inv = np.linalg.inv(Z)\n",
    "    # eet = np.ones([N, N])\n",
    "    # np.fill_diagonal(eet, 0)\n",
    "    # return - Z_inv @ Z_inv * eet + eet\n",
    "    return -Z_inv @ Z_inv\n",
    "\n",
    "\n",
    "L = laplacian(A)\n",
    "Zm = Z(L)\n",
    "# rp(Zm, 3)\n",
    "\n",
    "# check the correct pseudo inverse\n",
    "np.testing.assert_array_almost_equal(Z(L) - np.ones((N, N))/N, np.linalg.pinv(L))\n",
    "\n",
    "# check vol(G) = sum(A) OR trace(Z^-1 - 11.T / N)\n",
    "assert volZ(Z(L)) ==  vol(A)\n",
    "# print(volZ(Z(L)), vol(A))\n",
    "\n",
    "grad_approx = optim.approx_fprime(Zm.flatten(), volZ, np.sqrt(np.finfo(float).eps)).reshape([N, N])\n",
    "grad_true = grad_volZ_Z(Zm)\n",
    "\n",
    "print(\"approx grad\")\n",
    "rp(grad_approx)\n",
    "print(\"true grad\")\n",
    "rp(grad_true)\n"
   ]
  },
  {
   "cell_type": "markdown",
   "id": "fdcc9b56",
   "metadata": {},
   "source": [
    "## $\\partial C / \\partial Z$"
   ]
  },
  {
   "cell_type": "code",
   "execution_count": 10,
   "id": "6ef4c490",
   "metadata": {},
   "outputs": [
    {
     "name": "stdout",
     "output_type": "stream",
     "text": [
      "127.67169704197076\n",
      "127.67169704197076\n",
      "[[ 14.273  -8.375  10.327   3.216 -14.242]\n",
      " [ -8.375  10.007 -15.664  12.816   6.416]\n",
      " [ 10.327 -15.664   7.34  -10.331  13.527]\n",
      " [  3.216  12.816 -10.331   7.34   -7.842]\n",
      " [-14.242   6.416  13.527  -7.842   7.34 ]]\n",
      "[[ 14.273  -8.375  10.327   3.216 -14.242]\n",
      " [ -8.375  10.007 -15.664  12.816   6.416]\n",
      " [ 10.327 -15.664   7.34  -10.331  13.527]\n",
      " [  3.216  12.816 -10.331   7.34   -7.842]\n",
      " [-14.242   6.416  13.527  -7.842   7.34 ]]\n"
     ]
    }
   ],
   "source": [
    "def calc_T(Z):\n",
    "    \"\"\" T: see Eq. (67) \"\"\"\n",
    "    n = Z.shape[0]\n",
    "    T = np.zeros([n, n])\n",
    "    for i in range(n):\n",
    "        for j in range(n):\n",
    "            T[i, j] = (Z[i, i] + Z[j, j] - Z[i, j] - Z[j, i]) if i != j else (Z[i, i] + Z[j, j]) / 2\n",
    "    return T\n",
    "\n",
    "\n",
    "# def calc_Z(T):\n",
    "#     n = T.shape[0]\n",
    "#     Z = np.zeros([n, n])\n",
    "#     for i in range(n):\n",
    "#         for j in range(n):\n",
    "#             Z[i, j] = 0.5 * (T[i, i] + T[j, j] - T[i, j]) if i != j else (T[i, i] + T[j, j]) / 2\n",
    "#     return Z\n",
    "\n",
    "\n",
    "# def vol_T(T):\n",
    "#     return volZ(calc_Z(T))\n",
    "\n",
    "\n",
    "# def vol_X(X):\n",
    "#     return vol_Z()\n",
    "\n",
    "# def T_star(T):\n",
    "#     n = T.shape[0]\n",
    "#     Z = np.zeros([n, n])\n",
    "#     for i in range(n):\n",
    "#         for j in range(n):\n",
    "#             Z[i, j] = 0.5*(T[i, i] + T[j, j] - T[i, j]) if i!=j else (T[i, i]+T[j, j])/2\n",
    "#     return Z\n",
    "\n",
    "\n",
    "def T_star(X):\n",
    "    Z = np.zeros([N, N])\n",
    "    for i in range(N):\n",
    "        for j in range(N):\n",
    "            if i != j:\n",
    "                Z[i, j] = - X[i, j] - X[j, i]\n",
    "            else:\n",
    "                Z[i, j] = - X[i, i] + 2 * sum([X[i, k] for k in range(N)])\n",
    "    return Z\n",
    "\n",
    "\n",
    "M = np.random.rand(N**2).reshape([N, N]) * 10\n",
    "M = M.T / 2 + M / 2\n",
    "print(np.sum(M * calc_T(Zm)))\n",
    "print(np.sum(T_star(M) * Zm))\n",
    "\n",
    "\n",
    "def CT(Z):\n",
    "    \"\"\" commute time\n",
    "    .. math::\n",
    "\n",
    "    C = vol(Z) * T(Z) \\prod (11.T - I)\n",
    "    \"\"\"\n",
    "    Z = np.reshape(Z, [N, N])\n",
    "    T = calc_T(Z)\n",
    "    # e = np.ones([N, 1])\n",
    "    eet = np.ones((N, N))\n",
    "    ct = volZ(Z) * (T * (eet - np.identity(N)))\n",
    "    np.fill_diagonal(ct, 0)\n",
    "    return ct\n",
    "\n",
    "\n",
    "def f_Z(Z):\n",
    "    \"\"\" calculate the barycenter loss given Z \"\"\"\n",
    "    return f_C(CT(Z))\n",
    "\n",
    "\n",
    "grad_approx = optim.approx_fprime(Zm.flatten(), volZ, np.sqrt(np.finfo(float).eps)).reshape([N, N])\n",
    "\n",
    "# def grad_Z(Z, X):\n",
    "#     return vol_Z(Z)*T_star(X) + grad_vol_Z(Z)*CT(Z)/vol_Z(Z)\n",
    "\n",
    "\n",
    "def grad_XZ(Z):\n",
    "    # REVIEW: chang\n",
    "    XZ = np.zeros([N, N, N, N])\n",
    "    for i in range(N):\n",
    "        for j in range(N):\n",
    "            if i != j:\n",
    "                XZ[i, j, i, j] = -1\n",
    "                XZ[j, i, i, j] = -1\n",
    "                XZ[i, i, i, j] = 1\n",
    "                XZ[j, j, i, j] = 1\n",
    "    for i in range(N):\n",
    "        XZ[:, : i, i] *= 0\n",
    "    # wried observation: only the upper triangular of the last two dims are correct.\n",
    "    # symmetrize over last two dims.\n",
    "    for i in range(N):\n",
    "        for j in range(i + 1, N):\n",
    "            XZ[:, :, j, i] = XZ[:, :, i, j]\n",
    "    return XZ\n",
    "\n",
    "\n",
    "def vec(X):\n",
    "    return X.reshape([-1, 1])\n",
    "\n",
    "\n",
    "def grad_CZ(Z):\n",
    "    gXZ = grad_XZ(Z)\n",
    "    for i in range(N):\n",
    "        gXZ[:, :, i, i] *= 0\n",
    "    grad_CZ = volZ(Z) * gXZ.reshape([N**2, N**2]) + vec(grad_volZ_Z(Z)) @ vec(CT(Z)).T / volZ(Z)\n",
    "    return grad_CZ.reshape([N, N, N, N])\n",
    "\n",
    "\n",
    "def grad_Z(Z):\n",
    "    \"\"\"  \"\"\"\n",
    "    return np.einsum('pq, ijpq -> ij', grad_f_C(CT(Z)), grad_CZ(Z))\n",
    "\n",
    "\n",
    "# grad_true = (vec(grad_C(CT(Zm))).T @ grad_CZ(Zm)).reshape([N, N])\n",
    "grad_approx = optim.approx_fprime(Zm.flatten(), lambda x: f_Z(x), np.sqrt(np.finfo(float).eps) * 100).reshape([N, N])\n",
    "grad_true = grad_Z(Zm)\n",
    "\n",
    "rp(grad_approx / 2 + grad_approx.T / 2)\n",
    "rp(grad_true)\n"
   ]
  },
  {
   "cell_type": "markdown",
   "id": "448a2d39",
   "metadata": {},
   "source": [
    "## $\\partial Z / \\partial L$"
   ]
  },
  {
   "cell_type": "markdown",
   "id": "b0908032",
   "metadata": {},
   "source": []
  },
  {
   "cell_type": "code",
   "execution_count": 11,
   "id": "4ac54f05",
   "metadata": {},
   "outputs": [
    {
     "name": "stdout",
     "output_type": "stream",
     "text": [
      "[[-0.917 -0.917 -3.698 -1.749  2.084]\n",
      " [-0.917  0.476  2.027 -3.328 -3.456]\n",
      " [-3.698  2.027  1.877 -0.107 -5.298]\n",
      " [-1.749 -3.328 -0.107  0.05  -0.064]\n",
      " [ 2.084 -3.456 -5.298 -0.064  1.536]]\n",
      "[[-0.917 -0.917 -3.698 -1.749  2.084]\n",
      " [-0.917  0.476  2.027 -3.328 -3.456]\n",
      " [-3.698  2.027  1.877 -0.107 -5.298]\n",
      " [-1.749 -3.328 -0.107  0.05  -0.064]\n",
      " [ 2.084 -3.456 -5.298 -0.064  1.536]]\n"
     ]
    }
   ],
   "source": [
    "L = laplacian(A)\n",
    "\n",
    "\n",
    "def C(L):\n",
    "    e = np.ones([N, 1])\n",
    "    eet = np.ones((N, N))\n",
    "    return np.linalg.inv(L + eet) - eet\n",
    "\n",
    "\n",
    "def f_L(L):\n",
    "    L = np.reshape(L, (N, N))\n",
    "    # e = np.ones([N, 1])\n",
    "    # eet = np.ones((N, N))\n",
    "    return f_Z(Z(L))\n",
    "\n",
    "\n",
    "def grad_L(X, L):\n",
    "    return -Z(L) @ X @ Z(L)\n",
    "\n",
    "\n",
    "grad_approx = optim.approx_fprime(L.flatten(), f_L, np.sqrt(np.finfo(float).eps)).reshape([N, N])\n",
    "grad_true = grad_L(grad_Z(Z(L)), L)\n",
    "\n",
    "rp(grad_approx / 2 + grad_approx.T / 2)\n",
    "rp(grad_true)\n"
   ]
  },
  {
   "cell_type": "markdown",
   "id": "dc09d1b6",
   "metadata": {},
   "source": [
    "## $\\partial L / \\partial X$"
   ]
  },
  {
   "cell_type": "code",
   "execution_count": 12,
   "id": "fb9cae8d",
   "metadata": {},
   "outputs": [
    {
     "name": "stdout",
     "output_type": "stream",
     "text": [
      "[[ 0.     0.697  4.178  1.316 -1.774]\n",
      " [ 0.697  0.    -0.85   3.591  4.462]\n",
      " [ 4.178 -0.85   0.     1.07   7.004]\n",
      " [ 1.316  3.591  1.07   0.     0.857]\n",
      " [-1.774  4.462  7.004  0.857  0.   ]]\n",
      "[[ 0.     0.697  4.178  1.316 -1.774]\n",
      " [ 0.697  0.    -0.85   3.591  4.462]\n",
      " [ 4.178 -0.85   0.     1.07   7.004]\n",
      " [ 1.316  3.591  1.07   0.     0.857]\n",
      " [-1.774  4.462  7.004  0.857  0.   ]]\n",
      "[[ 0.    -0.     2.78   0.832 -3.001]\n",
      " [ 1.394  0.    -1.55   3.804  3.932]\n",
      " [ 5.575 -0.149  0.     1.984  7.175]\n",
      " [ 1.799  3.378  0.156  0.     0.114]\n",
      " [-0.548  4.992  6.834  1.6    0.   ]]\n"
     ]
    }
   ],
   "source": [
    "def f_A(A):\n",
    "    A = np.reshape(A, (N, N))\n",
    "    return f_L(laplacian(A))\n",
    "\n",
    "\n",
    "def A_star(X):\n",
    "    N = X.shape[0]\n",
    "    _ = np.zeros([N, N])\n",
    "    for i in range(N):\n",
    "        for j in range(N):\n",
    "            if i != j:\n",
    "                _[i, j] = -X[i, j] + 0.5 * X[i, i] + 0.5 * X[j, j]\n",
    "    return _\n",
    "\n",
    "\n",
    "grad_A_approx = optim.approx_fprime(A.flatten(), f_A, np.sqrt(np.finfo(float).eps)).reshape([N, N])\n",
    "grad_A_true = A_star(grad_L(grad_Z(Z(laplacian(A))), laplacian(A)))\n",
    "\n",
    "rp(grad_A_approx / 2 + grad_A_approx.T / 2)\n",
    "rp(grad_A_true)\n",
    "rp(grad_A_approx)"
   ]
  },
  {
   "cell_type": "code",
   "execution_count": null,
   "id": "b8a55aa7",
   "metadata": {},
   "outputs": [],
   "source": []
  },
  {
   "cell_type": "code",
   "execution_count": 13,
   "id": "843aa87a",
   "metadata": {},
   "outputs": [
    {
     "name": "stdout",
     "output_type": "stream",
     "text": [
      "[[ 0.     0.697  4.178  1.316 -1.774]\n",
      " [ 0.697  0.    -0.85   3.591  4.462]\n",
      " [ 4.178 -0.85   0.     1.07   7.004]\n",
      " [ 1.316  3.591  1.07   0.     0.857]\n",
      " [-1.774  4.462  7.004  0.857  0.   ]]\n",
      "[[ 0.     0.697  4.178  1.316 -1.774]\n",
      " [ 0.697  0.    -0.85   3.591  4.462]\n",
      " [ 4.178 -0.85   0.     1.07   7.004]\n",
      " [ 1.316  3.591  1.07   0.     0.857]\n",
      " [-1.774  4.462  7.004  0.857  0.   ]]\n"
     ]
    }
   ],
   "source": [
    "def grad_f_A(A):\n",
    "    L = laplacian(A)\n",
    "    Z_mat = Z(L)\n",
    "    return A_star(grad_L(grad_Z(Z_mat), L))\n",
    "\n",
    "\n",
    "grad_approx = optim.approx_fprime(A.flatten(), f_A, np.sqrt(np.finfo(float).eps)).reshape([N, N])\n",
    "grad_totest = grad_f_A(A)\n",
    "\n",
    "rp(grad_approx / 2 + grad_approx.T / 2)\n",
    "rp(grad_totest)\n"
   ]
  },
  {
   "cell_type": "code",
   "execution_count": 14,
   "id": "75fde567",
   "metadata": {},
   "outputs": [],
   "source": [
    "ct = CT(Z(laplacian(A)))\n",
    "\n",
    "grad_approx = optim.approx_fprime(ct.flatten(), f_C, np.sqrt(np.finfo(float).eps)).reshape((N, N))"
   ]
  },
  {
   "cell_type": "code",
   "execution_count": 15,
   "id": "d925e1a4",
   "metadata": {},
   "outputs": [
    {
     "data": {
      "text/plain": [
       "(37.484444444444506, 37.484444444444506)"
      ]
     },
     "execution_count": 15,
     "metadata": {},
     "output_type": "execute_result"
    }
   ],
   "source": [
    "f_A(A), f_C(ct)"
   ]
  },
  {
   "cell_type": "code",
   "execution_count": null,
   "id": "67938c66",
   "metadata": {},
   "outputs": [],
   "source": []
  }
 ],
 "metadata": {
  "interpreter": {
   "hash": "a3166001f7ac783d1c027f69474209e3ead6a12a28830c2c63f20c8616b86b1b"
  },
  "kernelspec": {
   "display_name": "Python 3.7.10 64-bit ('ptg': conda)",
   "name": "python3"
  },
  "language_info": {
   "codemirror_mode": {
    "name": "ipython",
    "version": 3
   },
   "file_extension": ".py",
   "mimetype": "text/x-python",
   "name": "python",
   "nbconvert_exporter": "python",
   "pygments_lexer": "ipython3",
   "version": "3.7.10"
  }
 },
 "nbformat": 4,
 "nbformat_minor": 5
}
